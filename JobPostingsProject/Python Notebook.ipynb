{
 "cells": [
  {
   "cell_type": "code",
   "execution_count": 1,
   "id": "1bfe0b5f-f4ca-49d5-8762-d4a574b93e73",
   "metadata": {},
   "outputs": [],
   "source": [
    "import pandas as pd"
   ]
  },
  {
   "cell_type": "code",
   "execution_count": 3,
   "id": "652ea7e6-160a-4dd3-9fd1-df28aa237f0c",
   "metadata": {},
   "outputs": [],
   "source": [
    "df = pd.read_csv('CompiledjobListNigeria.csv')"
   ]
  },
  {
   "cell_type": "code",
   "execution_count": 11,
   "id": "2d088fb8-c18b-4782-ad00-555ea3faa63c",
   "metadata": {},
   "outputs": [
    {
     "name": "stdout",
     "output_type": "stream",
     "text": [
      "<class 'pandas.core.frame.DataFrame'>\n",
      "RangeIndex: 202 entries, 0 to 201\n",
      "Data columns (total 10 columns):\n",
      " #   Column           Non-Null Count  Dtype \n",
      "---  ------           --------------  ----- \n",
      " 0   job_title        202 non-null    object\n",
      " 1   company_name     202 non-null    object\n",
      " 2   company_desc     202 non-null    object\n",
      " 3   job_desc         202 non-null    object\n",
      " 4   job_requirement  202 non-null    object\n",
      " 5   salary           202 non-null    object\n",
      " 6   location         202 non-null    object\n",
      " 7   employment_type  202 non-null    object\n",
      " 8   department       202 non-null    object\n",
      " 9   label            202 non-null    int64 \n",
      "dtypes: int64(1), object(9)\n",
      "memory usage: 15.9+ KB\n"
     ]
    },
    {
     "data": {
      "text/plain": [
       "job_title          0\n",
       "company_name       0\n",
       "company_desc       0\n",
       "job_desc           0\n",
       "job_requirement    0\n",
       "salary             0\n",
       "location           0\n",
       "employment_type    0\n",
       "department         0\n",
       "label              0\n",
       "dtype: int64"
      ]
     },
     "execution_count": 11,
     "metadata": {},
     "output_type": "execute_result"
    }
   ],
   "source": [
    "df.head()\n",
    "df.info()\n",
    "df.isnull().sum()"
   ]
  },
  {
   "cell_type": "code",
   "execution_count": 15,
   "id": "af389ebd-a88c-4cff-9d7f-aa7fcb53584a",
   "metadata": {},
   "outputs": [
    {
     "data": {
      "text/html": [
       "<div>\n",
       "<style scoped>\n",
       "    .dataframe tbody tr th:only-of-type {\n",
       "        vertical-align: middle;\n",
       "    }\n",
       "\n",
       "    .dataframe tbody tr th {\n",
       "        vertical-align: top;\n",
       "    }\n",
       "\n",
       "    .dataframe thead th {\n",
       "        text-align: right;\n",
       "    }\n",
       "</style>\n",
       "<table border=\"1\" class=\"dataframe\">\n",
       "  <thead>\n",
       "    <tr style=\"text-align: right;\">\n",
       "      <th></th>\n",
       "      <th>employment_type</th>\n",
       "      <th>location</th>\n",
       "      <th>salary</th>\n",
       "      <th>job_title</th>\n",
       "      <th>label</th>\n",
       "    </tr>\n",
       "  </thead>\n",
       "  <tbody>\n",
       "    <tr>\n",
       "      <th>0</th>\n",
       "      <td>Full Time</td>\n",
       "      <td>Abuja</td>\n",
       "      <td>75,000 - 150,000</td>\n",
       "      <td>Accountant</td>\n",
       "      <td>0</td>\n",
       "    </tr>\n",
       "    <tr>\n",
       "      <th>1</th>\n",
       "      <td>Full Time</td>\n",
       "      <td>Lagos</td>\n",
       "      <td>60,000 - 100,000</td>\n",
       "      <td>Content Writer</td>\n",
       "      <td>1</td>\n",
       "    </tr>\n",
       "    <tr>\n",
       "      <th>2</th>\n",
       "      <td>Full-time</td>\n",
       "      <td>First Floor, Left Wing, No. 49, Olowu Street, ...</td>\n",
       "      <td>Negotiable</td>\n",
       "      <td>Accountant</td>\n",
       "      <td>1</td>\n",
       "    </tr>\n",
       "    <tr>\n",
       "      <th>3</th>\n",
       "      <td>Full Time</td>\n",
       "      <td>Enugu</td>\n",
       "      <td>75,000 - 150,000</td>\n",
       "      <td>Sales Executive</td>\n",
       "      <td>0</td>\n",
       "    </tr>\n",
       "    <tr>\n",
       "      <th>4</th>\n",
       "      <td>Full Time</td>\n",
       "      <td>Lagos</td>\n",
       "      <td>Less than 75,000</td>\n",
       "      <td>Bulk/Partnership Marketing Officer</td>\n",
       "      <td>0</td>\n",
       "    </tr>\n",
       "  </tbody>\n",
       "</table>\n",
       "</div>"
      ],
      "text/plain": [
       "  employment_type                                           location  \\\n",
       "0       Full Time                                              Abuja   \n",
       "1       Full Time                                              Lagos   \n",
       "2       Full-time  First Floor, Left Wing, No. 49, Olowu Street, ...   \n",
       "3       Full Time                                              Enugu   \n",
       "4       Full Time                                              Lagos   \n",
       "\n",
       "             salary                           job_title  label  \n",
       "0  75,000 - 150,000                          Accountant      0  \n",
       "1  60,000 - 100,000                      Content Writer      1  \n",
       "2        Negotiable                          Accountant      1  \n",
       "3  75,000 - 150,000                     Sales Executive      0  \n",
       "4  Less than 75,000  Bulk/Partnership Marketing Officer      0  "
      ]
     },
     "execution_count": 15,
     "metadata": {},
     "output_type": "execute_result"
    }
   ],
   "source": [
    "df_model = df[['employment_type', 'location', 'salary', 'job_title', 'label']]\n",
    "df_model.head()"
   ]
  },
  {
   "cell_type": "code",
   "execution_count": 17,
   "id": "6458f4ef-da4c-4509-9a45-68cfecaad0eb",
   "metadata": {},
   "outputs": [],
   "source": [
    "from sklearn.preprocessing import LabelEncoder\n",
    "\n",
    "# Create a copy of the dataframe\n",
    "df_encoded = df_model.copy()\n",
    "\n",
    "# Initialize LabelEncoder\n",
    "le = LabelEncoder()\n",
    "\n",
    "# Encode each categorical column\n",
    "for col in ['employment_type', 'location', 'salary', 'job_title']:\n",
    "    df_encoded[col] = le.fit_transform(df_encoded[col])\n"
   ]
  },
  {
   "cell_type": "code",
   "execution_count": 19,
   "id": "c729737a-e3b9-4345-bb87-7e1a89f5dbd0",
   "metadata": {},
   "outputs": [],
   "source": [
    "X = df_encoded.drop('label', axis=1)\n",
    "y = df_encoded['label']"
   ]
  },
  {
   "cell_type": "code",
   "execution_count": 21,
   "id": "dc107ffb-ecef-438a-96ce-04c91d6c2db2",
   "metadata": {},
   "outputs": [],
   "source": [
    "from sklearn.model_selection import train_test_split\n",
    "\n",
    "# Split into 80% training and 20% testing\n",
    "X_train, X_test, y_train, y_test = train_test_split(X, y, test_size=0.2, random_state=42)"
   ]
  },
  {
   "cell_type": "code",
   "execution_count": 23,
   "id": "20b4a294-de5d-4b54-b092-aec13929bad1",
   "metadata": {},
   "outputs": [
    {
     "name": "stdout",
     "output_type": "stream",
     "text": [
      "Accuracy: 0.8536585365853658\n",
      "Confusion Matrix:\n",
      " [[25  0]\n",
      " [ 6 10]]\n",
      "Classification Report:\n",
      "               precision    recall  f1-score   support\n",
      "\n",
      "           0       0.81      1.00      0.89        25\n",
      "           1       1.00      0.62      0.77        16\n",
      "\n",
      "    accuracy                           0.85        41\n",
      "   macro avg       0.90      0.81      0.83        41\n",
      "weighted avg       0.88      0.85      0.84        41\n",
      "\n"
     ]
    }
   ],
   "source": [
    "from sklearn.tree import DecisionTreeClassifier\n",
    "from sklearn.metrics import accuracy_score, confusion_matrix, classification_report\n",
    "\n",
    "# Initialize and train model\n",
    "model = DecisionTreeClassifier()\n",
    "model.fit(X_train, y_train)\n",
    "\n",
    "# Predict on test set\n",
    "y_pred = model.predict(X_test)\n",
    "\n",
    "# Evaluate\n",
    "print(\"Accuracy:\", accuracy_score(y_test, y_pred))\n",
    "print(\"Confusion Matrix:\\n\", confusion_matrix(y_test, y_pred))\n",
    "print(\"Classification Report:\\n\", classification_report(y_test, y_pred))"
   ]
  },
  {
   "cell_type": "code",
   "execution_count": 25,
   "id": "66278736-01aa-4650-9e56-b9d542b2700d",
   "metadata": {},
   "outputs": [
    {
     "data": {
      "text/html": [
       "<div>\n",
       "<style scoped>\n",
       "    .dataframe tbody tr th:only-of-type {\n",
       "        vertical-align: middle;\n",
       "    }\n",
       "\n",
       "    .dataframe tbody tr th {\n",
       "        vertical-align: top;\n",
       "    }\n",
       "\n",
       "    .dataframe thead th {\n",
       "        text-align: right;\n",
       "    }\n",
       "</style>\n",
       "<table border=\"1\" class=\"dataframe\">\n",
       "  <thead>\n",
       "    <tr style=\"text-align: right;\">\n",
       "      <th></th>\n",
       "      <th>employment_type</th>\n",
       "      <th>location</th>\n",
       "      <th>salary</th>\n",
       "      <th>job_title</th>\n",
       "      <th>label</th>\n",
       "      <th>ML_Prediction</th>\n",
       "    </tr>\n",
       "  </thead>\n",
       "  <tbody>\n",
       "    <tr>\n",
       "      <th>0</th>\n",
       "      <td>Full Time</td>\n",
       "      <td>Abuja</td>\n",
       "      <td>75,000 - 150,000</td>\n",
       "      <td>Accountant</td>\n",
       "      <td>0</td>\n",
       "      <td>0</td>\n",
       "    </tr>\n",
       "    <tr>\n",
       "      <th>1</th>\n",
       "      <td>Full Time</td>\n",
       "      <td>Lagos</td>\n",
       "      <td>60,000 - 100,000</td>\n",
       "      <td>Content Writer</td>\n",
       "      <td>1</td>\n",
       "      <td>1</td>\n",
       "    </tr>\n",
       "    <tr>\n",
       "      <th>2</th>\n",
       "      <td>Full-time</td>\n",
       "      <td>First Floor, Left Wing, No. 49, Olowu Street, ...</td>\n",
       "      <td>Negotiable</td>\n",
       "      <td>Accountant</td>\n",
       "      <td>1</td>\n",
       "      <td>1</td>\n",
       "    </tr>\n",
       "    <tr>\n",
       "      <th>3</th>\n",
       "      <td>Full Time</td>\n",
       "      <td>Enugu</td>\n",
       "      <td>75,000 - 150,000</td>\n",
       "      <td>Sales Executive</td>\n",
       "      <td>0</td>\n",
       "      <td>0</td>\n",
       "    </tr>\n",
       "    <tr>\n",
       "      <th>4</th>\n",
       "      <td>Full Time</td>\n",
       "      <td>Lagos</td>\n",
       "      <td>Less than 75,000</td>\n",
       "      <td>Bulk/Partnership Marketing Officer</td>\n",
       "      <td>0</td>\n",
       "      <td>0</td>\n",
       "    </tr>\n",
       "  </tbody>\n",
       "</table>\n",
       "</div>"
      ],
      "text/plain": [
       "  employment_type                                           location  \\\n",
       "0       Full Time                                              Abuja   \n",
       "1       Full Time                                              Lagos   \n",
       "2       Full-time  First Floor, Left Wing, No. 49, Olowu Street, ...   \n",
       "3       Full Time                                              Enugu   \n",
       "4       Full Time                                              Lagos   \n",
       "\n",
       "             salary                           job_title  label  ML_Prediction  \n",
       "0  75,000 - 150,000                          Accountant      0              0  \n",
       "1  60,000 - 100,000                      Content Writer      1              1  \n",
       "2        Negotiable                          Accountant      1              1  \n",
       "3  75,000 - 150,000                     Sales Executive      0              0  \n",
       "4  Less than 75,000  Bulk/Partnership Marketing Officer      0              0  "
      ]
     },
     "execution_count": 25,
     "metadata": {},
     "output_type": "execute_result"
    }
   ],
   "source": [
    "# Make predictions on the full dataset\n",
    "df_encoded['ML_Prediction'] = model.predict(X)\n",
    "\n",
    "# Merge predictions with original dataset (optional for keeping original text)\n",
    "df_final = pd.concat([df_model, df_encoded['ML_Prediction']], axis=1)\n",
    "\n",
    "# Preview\n",
    "df_final.head()"
   ]
  },
  {
   "cell_type": "code",
   "execution_count": 27,
   "id": "e13e859c-1302-4255-ad74-1d6c00c72be4",
   "metadata": {},
   "outputs": [
    {
     "name": "stdout",
     "output_type": "stream",
     "text": [
      "File saved successfully!\n"
     ]
    }
   ],
   "source": [
    "# Save to CSV\n",
    "df_final.to_csv('job_predictions_with_labels.csv', index=False)\n",
    "print(\"File saved successfully!\")"
   ]
  },
  {
   "cell_type": "code",
   "execution_count": 35,
   "id": "b64c8c03-8d62-4fbb-a140-5f44e8ff6cdf",
   "metadata": {},
   "outputs": [
    {
     "name": "stdout",
     "output_type": "stream",
     "text": [
      "🔴 This job is likely: FAKE\n"
     ]
    }
   ],
   "source": [
    "import pandas as pd\n",
    "# Replace with a known salary value\n",
    "sample = pd.DataFrame({\n",
    "    'employment_type': ['Full-time'],\n",
    "    'location': ['Lagos'],\n",
    "    'salary': ['200,000 - 300,000'],  # <- from training set\n",
    "    'job_title': ['Marketer/Sales Executive']\n",
    "})\n",
    "\n",
    "# Reuse LabelEncoder from earlier training\n",
    "from sklearn.preprocessing import LabelEncoder\n",
    "\n",
    "# Re-initialize encoders (IMPORTANT: same fit order as training!)\n",
    "le_employment_type = LabelEncoder()\n",
    "le_location = LabelEncoder()\n",
    "le_salary = LabelEncoder()\n",
    "le_job_title = LabelEncoder()\n",
    "\n",
    "# Fit encoders on the original data\n",
    "le_employment_type.fit(df_model['employment_type'])\n",
    "le_location.fit(df_model['location'])\n",
    "le_salary.fit(df_model['salary'])\n",
    "le_job_title.fit(df_model['job_title'])\n",
    "\n",
    "# Apply encoders to the sample\n",
    "sample_encoded = pd.DataFrame({\n",
    "    'employment_type': le_employment_type.transform(sample['employment_type']),\n",
    "    'location': le_location.transform(sample['location']),\n",
    "    'salary': le_salary.transform(sample['salary']),\n",
    "    'job_title': le_job_title.transform(sample['job_title'])\n",
    "})\n",
    "\n",
    "# Predict using trained model\n",
    "prediction = model.predict(sample_encoded)\n",
    "\n",
    "# Output the result\n",
    "if prediction[0] == 1:\n",
    "    print(\"🔴 This job is likely: FAKE\")\n",
    "else:\n",
    "    print(\"🟢 This job is likely: REAL\")"
   ]
  },
  {
   "cell_type": "code",
   "execution_count": 37,
   "id": "da119ba7-d215-44ac-9f5a-ce24687cecd4",
   "metadata": {},
   "outputs": [
    {
     "name": "stdout",
     "output_type": "stream",
     "text": [
      "Requirement already satisfied: streamlit in c:\\users\\hp\\anaconda3\\lib\\site-packages (1.32.0)\n",
      "Requirement already satisfied: altair<6,>=4.0 in c:\\users\\hp\\anaconda3\\lib\\site-packages (from streamlit) (5.0.1)\n",
      "Requirement already satisfied: blinker<2,>=1.0.0 in c:\\users\\hp\\anaconda3\\lib\\site-packages (from streamlit) (1.6.2)\n",
      "Requirement already satisfied: cachetools<6,>=4.0 in c:\\users\\hp\\anaconda3\\lib\\site-packages (from streamlit) (5.3.3)\n",
      "Requirement already satisfied: click<9,>=7.0 in c:\\users\\hp\\anaconda3\\lib\\site-packages (from streamlit) (8.1.7)\n",
      "Requirement already satisfied: numpy<2,>=1.19.3 in c:\\users\\hp\\anaconda3\\lib\\site-packages (from streamlit) (1.26.4)\n",
      "Requirement already satisfied: packaging<24,>=16.8 in c:\\users\\hp\\anaconda3\\lib\\site-packages (from streamlit) (23.2)\n",
      "Requirement already satisfied: pandas<3,>=1.3.0 in c:\\users\\hp\\anaconda3\\lib\\site-packages (from streamlit) (2.2.2)\n",
      "Requirement already satisfied: pillow<11,>=7.1.0 in c:\\users\\hp\\anaconda3\\lib\\site-packages (from streamlit) (10.3.0)\n",
      "Requirement already satisfied: protobuf<5,>=3.20 in c:\\users\\hp\\anaconda3\\lib\\site-packages (from streamlit) (3.20.3)\n",
      "Requirement already satisfied: pyarrow>=7.0 in c:\\users\\hp\\anaconda3\\lib\\site-packages (from streamlit) (14.0.2)\n",
      "Requirement already satisfied: requests<3,>=2.27 in c:\\users\\hp\\anaconda3\\lib\\site-packages (from streamlit) (2.32.2)\n",
      "Requirement already satisfied: rich<14,>=10.14.0 in c:\\users\\hp\\anaconda3\\lib\\site-packages (from streamlit) (13.3.5)\n",
      "Requirement already satisfied: tenacity<9,>=8.1.0 in c:\\users\\hp\\anaconda3\\lib\\site-packages (from streamlit) (8.2.2)\n",
      "Requirement already satisfied: toml<2,>=0.10.1 in c:\\users\\hp\\anaconda3\\lib\\site-packages (from streamlit) (0.10.2)\n",
      "Requirement already satisfied: typing-extensions<5,>=4.3.0 in c:\\users\\hp\\anaconda3\\lib\\site-packages (from streamlit) (4.11.0)\n",
      "Requirement already satisfied: gitpython!=3.1.19,<4,>=3.0.7 in c:\\users\\hp\\anaconda3\\lib\\site-packages (from streamlit) (3.1.37)\n",
      "Requirement already satisfied: pydeck<1,>=0.8.0b4 in c:\\users\\hp\\anaconda3\\lib\\site-packages (from streamlit) (0.8.0)\n",
      "Requirement already satisfied: tornado<7,>=6.0.3 in c:\\users\\hp\\anaconda3\\lib\\site-packages (from streamlit) (6.4.1)\n",
      "Requirement already satisfied: watchdog>=2.1.5 in c:\\users\\hp\\anaconda3\\lib\\site-packages (from streamlit) (4.0.1)\n",
      "Requirement already satisfied: jinja2 in c:\\users\\hp\\anaconda3\\lib\\site-packages (from altair<6,>=4.0->streamlit) (3.1.4)\n",
      "Requirement already satisfied: jsonschema>=3.0 in c:\\users\\hp\\anaconda3\\lib\\site-packages (from altair<6,>=4.0->streamlit) (4.19.2)\n",
      "Requirement already satisfied: toolz in c:\\users\\hp\\anaconda3\\lib\\site-packages (from altair<6,>=4.0->streamlit) (0.12.0)\n",
      "Requirement already satisfied: colorama in c:\\users\\hp\\anaconda3\\lib\\site-packages (from click<9,>=7.0->streamlit) (0.4.6)\n",
      "Requirement already satisfied: gitdb<5,>=4.0.1 in c:\\users\\hp\\anaconda3\\lib\\site-packages (from gitpython!=3.1.19,<4,>=3.0.7->streamlit) (4.0.7)\n",
      "Requirement already satisfied: python-dateutil>=2.8.2 in c:\\users\\hp\\anaconda3\\lib\\site-packages (from pandas<3,>=1.3.0->streamlit) (2.9.0.post0)\n",
      "Requirement already satisfied: pytz>=2020.1 in c:\\users\\hp\\anaconda3\\lib\\site-packages (from pandas<3,>=1.3.0->streamlit) (2024.1)\n",
      "Requirement already satisfied: tzdata>=2022.7 in c:\\users\\hp\\anaconda3\\lib\\site-packages (from pandas<3,>=1.3.0->streamlit) (2023.3)\n",
      "Requirement already satisfied: charset-normalizer<4,>=2 in c:\\users\\hp\\anaconda3\\lib\\site-packages (from requests<3,>=2.27->streamlit) (2.0.4)\n",
      "Requirement already satisfied: idna<4,>=2.5 in c:\\users\\hp\\anaconda3\\lib\\site-packages (from requests<3,>=2.27->streamlit) (3.7)\n",
      "Requirement already satisfied: urllib3<3,>=1.21.1 in c:\\users\\hp\\anaconda3\\lib\\site-packages (from requests<3,>=2.27->streamlit) (2.2.2)\n",
      "Requirement already satisfied: certifi>=2017.4.17 in c:\\users\\hp\\anaconda3\\lib\\site-packages (from requests<3,>=2.27->streamlit) (2024.8.30)\n",
      "Requirement already satisfied: markdown-it-py<3.0.0,>=2.2.0 in c:\\users\\hp\\anaconda3\\lib\\site-packages (from rich<14,>=10.14.0->streamlit) (2.2.0)\n",
      "Requirement already satisfied: pygments<3.0.0,>=2.13.0 in c:\\users\\hp\\anaconda3\\lib\\site-packages (from rich<14,>=10.14.0->streamlit) (2.15.1)\n",
      "Requirement already satisfied: smmap<5,>=3.0.1 in c:\\users\\hp\\anaconda3\\lib\\site-packages (from gitdb<5,>=4.0.1->gitpython!=3.1.19,<4,>=3.0.7->streamlit) (4.0.0)\n",
      "Requirement already satisfied: MarkupSafe>=2.0 in c:\\users\\hp\\anaconda3\\lib\\site-packages (from jinja2->altair<6,>=4.0->streamlit) (2.1.3)\n",
      "Requirement already satisfied: attrs>=22.2.0 in c:\\users\\hp\\anaconda3\\lib\\site-packages (from jsonschema>=3.0->altair<6,>=4.0->streamlit) (23.1.0)\n",
      "Requirement already satisfied: jsonschema-specifications>=2023.03.6 in c:\\users\\hp\\anaconda3\\lib\\site-packages (from jsonschema>=3.0->altair<6,>=4.0->streamlit) (2023.7.1)\n",
      "Requirement already satisfied: referencing>=0.28.4 in c:\\users\\hp\\anaconda3\\lib\\site-packages (from jsonschema>=3.0->altair<6,>=4.0->streamlit) (0.30.2)\n",
      "Requirement already satisfied: rpds-py>=0.7.1 in c:\\users\\hp\\anaconda3\\lib\\site-packages (from jsonschema>=3.0->altair<6,>=4.0->streamlit) (0.10.6)\n",
      "Requirement already satisfied: mdurl~=0.1 in c:\\users\\hp\\anaconda3\\lib\\site-packages (from markdown-it-py<3.0.0,>=2.2.0->rich<14,>=10.14.0->streamlit) (0.1.0)\n",
      "Requirement already satisfied: six>=1.5 in c:\\users\\hp\\anaconda3\\lib\\site-packages (from python-dateutil>=2.8.2->pandas<3,>=1.3.0->streamlit) (1.16.0)\n",
      "Note: you may need to restart the kernel to use updated packages.\n"
     ]
    }
   ],
   "source": [
    "pip install streamlit"
   ]
  },
  {
   "cell_type": "code",
   "execution_count": 39,
   "id": "46986086-7d55-4926-9ea4-5f2ef76e3d3b",
   "metadata": {},
   "outputs": [
    {
     "name": "stdout",
     "output_type": "stream",
     "text": [
      "Model and encoders saved successfully.\n"
     ]
    }
   ],
   "source": [
    "import joblib\n",
    "\n",
    "# Save the trained model\n",
    "joblib.dump(model, 'job_model.pkl')\n",
    "\n",
    "# Save the encoders\n",
    "joblib.dump(le_employment_type, 'le_employment_type.pkl')\n",
    "joblib.dump(le_location, 'le_location.pkl')\n",
    "joblib.dump(le_salary, 'le_salary.pkl')\n",
    "joblib.dump(le_job_title, 'le_job_title.pkl')\n",
    "\n",
    "print(\"Model and encoders saved successfully.\")"
   ]
  },
  {
   "cell_type": "code",
   "execution_count": null,
   "id": "6469c054-6c87-4208-b09c-fd7f23af569a",
   "metadata": {},
   "outputs": [],
   "source": []
  }
 ],
 "metadata": {
  "kernelspec": {
   "display_name": "Python 3 (ipykernel)",
   "language": "python",
   "name": "python3"
  },
  "language_info": {
   "codemirror_mode": {
    "name": "ipython",
    "version": 3
   },
   "file_extension": ".py",
   "mimetype": "text/x-python",
   "name": "python",
   "nbconvert_exporter": "python",
   "pygments_lexer": "ipython3",
   "version": "3.12.4"
  }
 },
 "nbformat": 4,
 "nbformat_minor": 5
}
